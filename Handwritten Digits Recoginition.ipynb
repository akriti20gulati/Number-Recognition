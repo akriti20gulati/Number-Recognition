{
 "cells": [
  {
   "cell_type": "code",
   "execution_count": 1,
   "id": "47cec4e8",
   "metadata": {},
   "outputs": [
    {
     "name": "stderr",
     "output_type": "stream",
     "text": [
      "C:\\Users\\hp\\anaconda3\\lib\\site-packages\\scipy\\__init__.py:146: UserWarning: A NumPy version >=1.16.5 and <1.23.0 is required for this version of SciPy (detected version 1.24.3\n",
      "  warnings.warn(f\"A NumPy version >={np_minversion} and <{np_maxversion}\"\n"
     ]
    }
   ],
   "source": [
    "import tensorflow as tf\n",
    "from tensorflow import keras\n",
    "from tensorflow.keras import layers\n",
    "from tensorflow.keras.datasets import mnist"
   ]
  },
  {
   "cell_type": "code",
   "execution_count": 2,
   "id": "3a537998",
   "metadata": {},
   "outputs": [],
   "source": [
    "(x_train,y_train),(x_test,y_test)=mnist.load_data()"
   ]
  },
  {
   "cell_type": "code",
   "execution_count": 3,
   "id": "dca0d4c7",
   "metadata": {},
   "outputs": [],
   "source": [
    "x_train,x_test=x_train/255.0,x_test/255.0"
   ]
  },
  {
   "cell_type": "code",
   "execution_count": 4,
   "id": "b76226ee",
   "metadata": {},
   "outputs": [
    {
     "data": {
      "text/plain": [
       "((60000, 28, 28), (60000,))"
      ]
     },
     "execution_count": 4,
     "metadata": {},
     "output_type": "execute_result"
    }
   ],
   "source": [
    "x_train.shape,y_train.shape"
   ]
  },
  {
   "cell_type": "code",
   "execution_count": 5,
   "id": "a992e762",
   "metadata": {},
   "outputs": [],
   "source": [
    "model=keras.Sequential([layers.Input(shape=(28,28)),\n",
    "                       layers.Reshape(target_shape=(28,28,1)),\n",
    "                       layers.Conv2D(32,kernel_size=(3,3),activation=\"relu\"),\n",
    "                       layers.MaxPooling2D(pool_size=(2,2)),\n",
    "                       layers.Conv2D(64,kernel_size=(3,3),activation=\"relu\"),\n",
    "                       layers.MaxPooling2D(pool_size=(2,2)),\n",
    "                       layers.Flatten(),\n",
    "                       layers.Dropout(0.5),\n",
    "                       layers.Dense(10,activation=\"softmax\")])"
   ]
  },
  {
   "cell_type": "code",
   "execution_count": 6,
   "id": "88605ee6",
   "metadata": {},
   "outputs": [],
   "source": [
    "model.compile(optimizer=\"adam\",loss=\"sparse_categorical_crossentropy\", metrics=[\"accuracy\"])"
   ]
  },
  {
   "cell_type": "code",
   "execution_count": 7,
   "id": "b73242c3",
   "metadata": {},
   "outputs": [
    {
     "name": "stdout",
     "output_type": "stream",
     "text": [
      "Epoch 1/5\n",
      "750/750 [==============================] - 34s 43ms/step - loss: 0.3049 - accuracy: 0.9068 - val_loss: 0.0840 - val_accuracy: 0.9758\n",
      "Epoch 2/5\n",
      "750/750 [==============================] - 32s 43ms/step - loss: 0.1007 - accuracy: 0.9684 - val_loss: 0.0599 - val_accuracy: 0.9828\n",
      "Epoch 3/5\n",
      "750/750 [==============================] - 35s 47ms/step - loss: 0.0773 - accuracy: 0.9757 - val_loss: 0.0505 - val_accuracy: 0.9853\n",
      "Epoch 4/5\n",
      "750/750 [==============================] - 37s 50ms/step - loss: 0.0654 - accuracy: 0.9795 - val_loss: 0.0456 - val_accuracy: 0.9869\n",
      "Epoch 5/5\n",
      "750/750 [==============================] - 35s 47ms/step - loss: 0.0563 - accuracy: 0.9825 - val_loss: 0.0408 - val_accuracy: 0.9877\n"
     ]
    },
    {
     "data": {
      "text/plain": [
       "<keras.src.callbacks.History at 0x245081bf1c0>"
      ]
     },
     "execution_count": 7,
     "metadata": {},
     "output_type": "execute_result"
    }
   ],
   "source": [
    "model.fit(x_train,y_train,epochs=5,batch_size=64,validation_split=0.2)"
   ]
  },
  {
   "cell_type": "code",
   "execution_count": 8,
   "id": "b98c692a",
   "metadata": {},
   "outputs": [
    {
     "name": "stdout",
     "output_type": "stream",
     "text": [
      "313/313 [==============================] - 3s 9ms/step - loss: 0.0342 - accuracy: 0.9880\n"
     ]
    },
    {
     "data": {
      "text/plain": [
       "(0.034218862652778625, 0.9879999756813049)"
      ]
     },
     "execution_count": 8,
     "metadata": {},
     "output_type": "execute_result"
    }
   ],
   "source": [
    "test_loss,test_accuracy=model.evaluate(x_test,y_test)\n",
    "test_loss,test_accuracy"
   ]
  },
  {
   "cell_type": "code",
   "execution_count": 9,
   "id": "6b5fb17a",
   "metadata": {},
   "outputs": [],
   "source": [
    "from tensorflow.keras.preprocessing import image\n",
    "import numpy as np"
   ]
  },
  {
   "cell_type": "code",
   "execution_count": 10,
   "id": "4ae54b60",
   "metadata": {},
   "outputs": [],
   "source": [
    "def predictor(img_path):\n",
    "    img=image.load_img(img_path,target_size=(28,28),color_mode=\"grayscale\")\n",
    "    img_array=image.img_to_array(img)\n",
    "    img_array=img_array/255.0\n",
    "    img_array=np.expand_dims(img_array,axis=0)\n",
    "    prediction=model.predict(img_array)\n",
    "    prediction_digit=np.argmax(prediction)\n",
    "    return prediction_digit"
   ]
  },
  {
   "cell_type": "code",
   "execution_count": 11,
   "id": "69f1c8d1",
   "metadata": {},
   "outputs": [
    {
     "name": "stdout",
     "output_type": "stream",
     "text": [
      "1/1 [==============================] - 0s 227ms/step\n"
     ]
    }
   ],
   "source": [
    "img_path=\"TestingDataset//Number 1.png\"\n",
    "img=image.load_img(img_path,target_size=(28,28),color_mode=\"grayscale\")\n",
    "result=predictor(img_path)"
   ]
  },
  {
   "cell_type": "code",
   "execution_count": 12,
   "id": "6820bcd7",
   "metadata": {},
   "outputs": [
    {
     "data": {
      "image/png": "[encoded data removed]",
      "text/plain": [
       "<PIL.Image.Image image mode=L size=28x28 at 0x24509711640>"
      ]
     },
     "execution_count": 12,
     "metadata": {},
     "output_type": "execute_result"
    }
   ],
   "source": [
    "img"
   ]
  },
  {
   "cell_type": "code",
   "execution_count": 13,
   "id": "0f634ae7",
   "metadata": {},
   "outputs": [
    {
     "data": {
      "text/plain": [
       "1"
      ]
     },
     "execution_count": 13,
     "metadata": {},
     "output_type": "execute_result"
    }
   ],
   "source": [
    "result"
   ]
  }
 ],
 "metadata": {
  "kernelspec": {
   "display_name": "Python 3 (ipykernel)",
   "language": "python",
   "name": "python3"
  },
  "language_info": {
   "codemirror_mode": {
    "name": "ipython",
    "version": 3
   },
   "file_extension": ".py",
   "mimetype": "text/x-python",
   "name": "python",
   "nbconvert_exporter": "python",
   "pygments_lexer": "ipython3",
   "version": "3.9.7"
  }
 },
 "nbformat": 4,
 "nbformat_minor": 5
}
